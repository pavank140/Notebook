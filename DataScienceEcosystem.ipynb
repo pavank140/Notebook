{
 "cells": [
  {
   "cell_type": "markdown",
   "id": "dc806dc3-cab9-4b1b-b21c-6d6aa0b38054",
   "metadata": {
    "panel-layout": {
     "height": 51.140625,
     "visible": true,
     "width": 100
    }
   },
   "source": [
    "# Data Science Tools and Ecosystem"
   ]
  },
  {
   "cell_type": "markdown",
   "id": "476d0b45-6a04-49b9-856a-e1afb8719b1b",
   "metadata": {
    "panel-layout": {
     "height": 51.140625,
     "visible": true,
     "width": 100
    }
   },
   "source": [
    "In this notebook, Data Science Tools and Ecosystem are summarized."
   ]
  },
  {
   "cell_type": "markdown",
   "id": "40921dd4-e8f3-4cdd-8000-394ef22e5816",
   "metadata": {},
   "source": [
    "**Objectives:**\n",
    "\n",
    "- List popular languages for Data Science  \n",
    "- Identify commonly used Data Science libraries  \n",
    "- Create and format markdown cells in a notebook  \n",
    "- Perform basic arithmetic operations using code cells  \n",
    "- Understand tools and environments used in Data Science\n"
   ]
  },
  {
   "cell_type": "markdown",
   "id": "223245a0-05f8-410d-99a3-4f3ddd92c218",
   "metadata": {
    "panel-layout": {
     "height": 148.84373474121094,
     "visible": true,
     "width": 100
    }
   },
   "source": [
    "Some of the popular languages that Data Scientists use are:\n",
    "\n",
    "1. Python  \n",
    "2. R  \n",
    "3. SQL  \n",
    "4. Julia  \n",
    "5. Scala\n"
   ]
  },
  {
   "cell_type": "markdown",
   "id": "3db32861-e682-428e-bdde-1f45815bf13c",
   "metadata": {},
   "source": [
    "Some of the commonly used libraries used by Data Scientists include:\n",
    "\n",
    "1. Pandas  \n",
    "2. NumPy  \n",
    "3. Matplotlib  \n",
    "\n"
   ]
  },
  {
   "cell_type": "markdown",
   "id": "bd112380-25e6-455a-9b22-2d05164ae89a",
   "metadata": {},
   "source": [
    "| Data Science Tools |\n",
    "|--------------------|\n",
    "| Jupyter Notebook   |\n",
    "| RStudio            |\n",
    "| Apache Zeppelin    |"
   ]
  },
  {
   "cell_type": "markdown",
   "id": "3763e080-01cf-4a96-ab2c-e40dfc877fe0",
   "metadata": {},
   "source": [
    "### Below are a few examples of evaluating arithmetic expressions in Python.\n"
   ]
  },
  {
   "cell_type": "code",
   "execution_count": 39,
   "id": "9544e0b8-4dc2-45b8-ac3a-9aa8ccd78619",
   "metadata": {},
   "outputs": [
    {
     "name": "stdout",
     "output_type": "stream",
     "text": [
      "17\n"
     ]
    }
   ],
   "source": [
    "print((3*4)+5) #this a simple arithmetic expression to mutiply then add integers\n"
   ]
  },
  {
   "cell_type": "code",
   "execution_count": 41,
   "id": "859fbcd5-3f61-4826-9137-05fd10dd5a5d",
   "metadata": {},
   "outputs": [
    {
     "name": "stdout",
     "output_type": "stream",
     "text": [
      "3.3333333333333335\n"
     ]
    }
   ],
   "source": [
    "hours=(200/60) #This will convert 200 minutes to hours by diving by 60\n",
    "print(hours)"
   ]
  },
  {
   "cell_type": "markdown",
   "id": "5b4f6de2-3b9e-4249-8a29-654f21775990",
   "metadata": {},
   "source": [
    "## Author \n",
    "Your Name"
   ]
  },
  {
   "cell_type": "code",
   "execution_count": null,
   "id": "3bc917ef-1d53-4fb2-9a20-bea7e1318607",
   "metadata": {},
   "outputs": [],
   "source": []
  }
 ],
 "metadata": {
  "kernelspec": {
   "display_name": "Python [conda env:base] *",
   "language": "python",
   "name": "conda-base-py"
  },
  "language_info": {
   "codemirror_mode": {
    "name": "ipython",
    "version": 3
   },
   "file_extension": ".py",
   "mimetype": "text/x-python",
   "name": "python",
   "nbconvert_exporter": "python",
   "pygments_lexer": "ipython3",
   "version": "3.12.7"
  },
  "panel-cell-order": [
   "dc806dc3-cab9-4b1b-b21c-6d6aa0b38054",
   "476d0b45-6a04-49b9-856a-e1afb8719b1b",
   "223245a0-05f8-410d-99a3-4f3ddd92c218",
   "fea31c42-cdd0-4f7f-bfe4-b054249a6411"
  ]
 },
 "nbformat": 4,
 "nbformat_minor": 5
}
